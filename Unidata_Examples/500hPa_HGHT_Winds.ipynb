{
 "cells": [
  {
   "cell_type": "markdown",
   "metadata": {
    "cell_marker": "\"\"\""
   },
   "source": [
    "500 hPa Geopotential Heights and Winds\n",
    "======================================\n",
    "\n",
    "Classic 500-hPa plot using NAM analysis file.\n",
    "\n",
    "This example uses example data from the NAM anlysis for 12 UTC 31\n",
    "October 2016 and uses xarray as the main read source with using Cartopy\n",
    "for plotting a CONUS view of the 500-hPa geopotential heights, wind\n",
    "speed, and wind barbs.\n"
   ]
  },
  {
   "cell_type": "markdown",
   "metadata": {
    "cell_marker": "######################################################################"
   },
   "source": [
    "Import the needed modules.\n"
   ]
  },
  {
   "cell_type": "code",
   "execution_count": null,
   "metadata": {},
   "outputs": [],
   "source": [
    "import cartopy.crs as ccrs\n",
    "import cartopy.feature as cfeature\n",
    "import matplotlib.pyplot as plt\n",
    "import metpy.calc as mpcalc\n",
    "from metpy.units import units\n",
    "import numpy as np\n",
    "import xarray as xr"
   ]
  },
  {
   "cell_type": "markdown",
   "metadata": {
    "cell_marker": "######################################################################"
   },
   "source": [
    "The following code reads the example data using the xarray open_dataset\n",
    "function and prints the coordinate values that are associated with the\n",
    "various variables contained within the file.\n"
   ]
  },
  {
   "cell_type": "code",
   "execution_count": null,
   "metadata": {},
   "outputs": [],
   "source": [
    "ds = xr.open_dataset('https://thredds.ucar.edu/thredds/dodsC/casestudies/'\n",
    "                     'python-gallery/NAM_20161031_1200.nc').metpy.parse_cf()\n",
    "ds.coords"
   ]
  },
  {
   "cell_type": "markdown",
   "metadata": {
    "cell_marker": "######################################################################"
   },
   "source": [
    "Data Retrieval\n",
    "--------------\n",
    "\n",
    "This code retrieves the necessary data from the file and completes some\n",
    "smoothing of the geopotential height and wind fields using the SciPy\n",
    "function gaussian_filter. A nicely formated valid time (vtime) variable\n",
    "is also created.\n"
   ]
  },
  {
   "cell_type": "code",
   "execution_count": null,
   "metadata": {},
   "outputs": [],
   "source": [
    "# Grab lat/lon values (NAM will be 2D)\n",
    "lats = ds.lat.values\n",
    "lons = ds.lon.values\n",
    "\n",
    "# Select and grab data\n",
    "hght = ds['Geopotential_height_isobaric'].metpy.sel(\n",
    "    isobaric=500 * units.hPa).squeeze()\n",
    "uwnd = ds['u-component_of_wind_isobaric'].metpy.sel(\n",
    "    isobaric=500 * units.hPa).squeeze()\n",
    "vwnd = ds['v-component_of_wind_isobaric'].metpy.sel(\n",
    "    isobaric=500 * units.hPa).squeeze()\n",
    "\n",
    "# Select and grab 500-hPa geopotential heights and wind components,\n",
    "# smooth with gaussian_filter\n",
    "hght_500 = mpcalc.smooth_gaussian(hght, 4)\n",
    "uwnd_500 = mpcalc.smooth_gaussian(uwnd, 4)\n",
    "vwnd_500 = mpcalc.smooth_gaussian(vwnd, 4)\n",
    "\n",
    "# Use MetPy to calculate the wind speed for colorfill plot,\n",
    "# change units to knots from m/s\n",
    "sped_500 = mpcalc.wind_speed(uwnd_500,\n",
    "                             vwnd_500).metpy.convert_units('kt')\n",
    "\n",
    "# Create a clean datetime object for plotting based on time of\n",
    "# Geopotential heights\n",
    "vtime = ds.time.squeeze().values.astype('datetime64[ms]').astype('O')"
   ]
  },
  {
   "cell_type": "markdown",
   "metadata": {
    "cell_marker": "######################################################################"
   },
   "source": [
    "Map Creation\n",
    "------------\n",
    "\n",
    "This next set of code creates the plot and draws contours on a Lambert\n",
    "Conformal map centered on -100 E longitude. The main view is over the\n",
    "CONUS with geopotential heights contoured every 60 m and wind speed in\n",
    "knots every 20 knots starting at 30 kt.\n"
   ]
  },
  {
   "cell_type": "code",
   "execution_count": null,
   "metadata": {},
   "outputs": [],
   "source": [
    "# Set up the projection that will be used for plotting\n",
    "mapcrs = ccrs.LambertConformal(central_longitude=-100,\n",
    "                               central_latitude=35,\n",
    "                               standard_parallels=(30, 60))\n",
    "\n",
    "# Set up the projection of the data;\n",
    "# if lat/lon then PlateCarree is what you want\n",
    "datacrs = ccrs.PlateCarree()\n",
    "\n",
    "# Start the figure and create plot axes with proper projection\n",
    "fig = plt.figure(1, figsize=(14, 12))\n",
    "ax = plt.subplot(111, projection=mapcrs)\n",
    "ax.set_extent([-130, -72, 20, 55], ccrs.PlateCarree())\n",
    "\n",
    "# Add geopolitical boundaries for map reference\n",
    "ax.add_feature(cfeature.COASTLINE.with_scale('50m'))\n",
    "ax.add_feature(cfeature.STATES.with_scale('50m'))\n",
    "\n",
    "# Plot 500-hPa Colorfill Wind Speeds in knots\n",
    "clevs_500_sped = np.arange(30, 150, 20)\n",
    "cf = ax.contourf(lons, lats, sped_500, clevs_500_sped, cmap=plt.cm.BuPu,\n",
    "                 transform=datacrs)\n",
    "plt.colorbar(cf, orientation='horizontal', pad=0, aspect=50)\n",
    "\n",
    "# Plot 500-hPa Geopotential Heights in meters\n",
    "clevs_500_hght = np.arange(0, 8000, 60)\n",
    "cs = ax.contour(lons, lats, hght_500, clevs_500_hght, colors='black',\n",
    "                transform=datacrs)\n",
    "plt.clabel(cs, fmt='%d')\n",
    "\n",
    "# Plot 500-hPa wind barbs in knots\n",
    "# Subset number of barbs, plot and transform due to grid-relative NAM winds\n",
    "wind_slice = slice(None, None, 20)\n",
    "xx, yy = np.meshgrid(uwnd_500.x.values[wind_slice],\n",
    "                     uwnd_500.y.values[wind_slice])\n",
    "ax.barbs(xx, yy,\n",
    "         uwnd_500.metpy.convert_units('kt').values[wind_slice, wind_slice],\n",
    "         vwnd_500.metpy.convert_units('kt').values[wind_slice, wind_slice],\n",
    "         pivot='middle', color='black', transform=uwnd_500.metpy.cartopy_crs)\n",
    "\n",
    "# Make some nice titles for the plot (one right, one left)\n",
    "plt.title('500-hPa NAM Geopotential Heights (m), Wind Speed (kt),'\n",
    "          ' and Wind Barbs (kt)', loc='left')\n",
    "plt.title(f'Valid Time: {vtime}', loc='right')\n",
    "\n",
    "# Adjust image and show\n",
    "plt.subplots_adjust(bottom=0, top=1)"
   ]
  },
  {
   "cell_type": "code",
   "execution_count": null,
   "metadata": {},
   "outputs": [],
   "source": []
  }
 ],
 "metadata": {
  "jupytext": {
   "cell_metadata_filter": "-all",
   "main_language": "python",
   "notebook_metadata_filter": "-all"
  },
  "kernelspec": {
   "display_name": "Python 3",
   "language": "python",
   "name": "python3"
  },
  "language_info": {
   "codemirror_mode": {
    "name": "ipython",
    "version": 3
   },
   "file_extension": ".py",
   "mimetype": "text/x-python",
   "name": "python",
   "nbconvert_exporter": "python",
   "pygments_lexer": "ipython3",
   "version": "3.8.6"
  }
 },
 "nbformat": 4,
 "nbformat_minor": 4
}
