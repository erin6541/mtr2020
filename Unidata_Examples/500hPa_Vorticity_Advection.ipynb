{
 "cells": [
  {
   "cell_type": "markdown",
   "metadata": {
    "cell_marker": "\"\"\""
   },
   "source": [
    "500 hPa Vorticity Advection\n",
    "===========================\n",
    "\n",
    "Plot an 500-hPa map with calculating vorticity advection using MetPy calculations.\n",
    "\n",
    "Beyond just plotting 500-hPa level data, this uses calculations from `metpy.calc` to find\n",
    "the vorticity and vorticity advection. Currently, this needs an extra helper function to\n",
    "calculate the distance between lat/lon grid points."
   ]
  },
  {
   "cell_type": "markdown",
   "metadata": {
    "cell_marker": "########################################",
    "lines_to_next_cell": 0
   },
   "source": [
    "Imports"
   ]
  },
  {
   "cell_type": "code",
   "execution_count": null,
   "metadata": {},
   "outputs": [],
   "source": [
    "from datetime import datetime\n",
    "\n",
    "import cartopy.crs as ccrs\n",
    "import cartopy.feature as cfeature\n",
    "import matplotlib.pyplot as plt\n",
    "import metpy.calc as mpcalc\n",
    "from metpy.units import units\n",
    "import numpy as np\n",
    "from siphon.catalog import TDSCatalog\n",
    "from xarray.backends import NetCDF4DataStore\n",
    "import xarray as xr"
   ]
  },
  {
   "cell_type": "markdown",
   "metadata": {
    "cell_marker": "######################################################################"
   },
   "source": [
    "Function to Compute Earth-Relative Winds\n",
    "----------------------------------------\n",
    "\n",
    "This function takes a data array with relevant information about the\n",
    "projection of the wind component data, along with the grid-relative\n",
    "components of the wind. It outputs the earth-relative components of the\n",
    "wind.\n"
   ]
  },
  {
   "cell_type": "code",
   "execution_count": null,
   "metadata": {
    "lines_to_next_cell": 1
   },
   "outputs": [],
   "source": [
    "def earth_relative_wind_components(ugrd, vgrd):\n",
    "    \"\"\"Calculate the north-relative components of the\n",
    "    wind from the grid-relative components using Cartopy\n",
    "    transform_vectors.\n",
    "\n",
    "    Parameters\n",
    "    ----------\n",
    "        ugrd : Xarray DataArray (M, N)\n",
    "            grid relative u-component of the wind\n",
    "        vgrd : Xarray DataArray (M, N)\n",
    "            grid relative v-component of the wind\n",
    "\n",
    "    Returns\n",
    "    -------\n",
    "        unr, vnr : tuple of array-like Quantity\n",
    "            The north-relative wind components in the X (East-West)\n",
    "            and Y (North-South) directions, respectively.\n",
    "    \"\"\"\n",
    "    if 'metpy_crs' not in ugrd.coords:\n",
    "        raise ValueError('No CRS in coordinate, be sure to use'\n",
    "                         'the MetPy accessor parse_cf()')\n",
    "\n",
    "    data_crs = ugrd.metpy.cartopy_crs\n",
    "\n",
    "    x = ugrd.x.values\n",
    "    y = ugrd.y.values\n",
    "\n",
    "    xx, yy = np.meshgrid(x, y)\n",
    "\n",
    "    ut, vt = ccrs.PlateCarree().transform_vectors(data_crs, xx, yy,\n",
    "                                                  ugrd.values, vgrd.values)\n",
    "\n",
    "    # Make a copy of u and v component DataArrays\n",
    "    uer = ugrd.copy()\n",
    "    ver = vgrd.copy()\n",
    "\n",
    "    # Update values with transformed winds\n",
    "    uer.values = ut\n",
    "    ver.values = vt\n",
    "\n",
    "    return uer, ver\n"
   ]
  },
  {
   "cell_type": "markdown",
   "metadata": {
    "cell_marker": "#######################################"
   },
   "source": [
    "Data Aquisition\n",
    "---------------"
   ]
  },
  {
   "cell_type": "code",
   "execution_count": null,
   "metadata": {},
   "outputs": [],
   "source": [
    "dt = datetime(2016, 4, 16, 18)\n",
    "\n",
    "# Assemble our URL to the THREDDS Data Server catalog,\n",
    "# and access our desired dataset within via NCSS\n",
    "base_url = 'https://www.ncei.noaa.gov/thredds/catalog/model-namanl-old/'\n",
    "cat = TDSCatalog(f'{base_url}{dt:%Y%m}/{dt:%Y%m%d}/catalog.xml')\n",
    "ncss = cat.datasets[f'namanl_218_{dt:%Y%m%d}_{dt:%H}00_000.grb'].subset()\n",
    "\n",
    "# Query for Latest GFS Run\n",
    "query = ncss.query()\n",
    "\n",
    "query.time(dt)\n",
    "query.accept('netcdf')\n",
    "query.variables('Geopotential_height_isobaric',\n",
    "                'u-component_of_wind_isobaric',\n",
    "                'v-component_of_wind_isobaric')\n",
    "# query.add_lonlat()\n",
    "\n",
    "# Obtain our queried data\n",
    "data = ncss.get_data(query)\n",
    "ds_data = xr.open_dataset(NetCDF4DataStore(data)).metpy.parse_cf()\n",
    "ds = ds_data.metpy.assign_latitude_longitude()\n",
    "\n",
    "times = ds.Geopotential_height_isobaric.metpy.time\n",
    "vtime = times.values.squeeze().astype('datetime64[ms]').astype('O')\n",
    "\n",
    "lev_500 = 500 * units.hPa\n",
    "\n",
    "hght_500 = ds.Geopotential_height_isobaric.metpy.sel(\n",
    "    vertical=lev_500).squeeze()\n",
    "hght_500 = mpcalc.smooth_gaussian(hght_500, 4)\n",
    "\n",
    "uwnd_500 = ds['u-component_of_wind_isobaric'].metpy.sel(\n",
    "    vertical=lev_500).squeeze()\n",
    "vwnd_500 = ds['v-component_of_wind_isobaric'].metpy.sel(\n",
    "    vertical=lev_500).squeeze()\n",
    "\n",
    "# Compute north-relative wind components for calculation purposes\n",
    "uwnd_500er, vwnd_500er = earth_relative_wind_components(uwnd_500, vwnd_500)"
   ]
  },
  {
   "cell_type": "markdown",
   "metadata": {
    "cell_marker": "#######################################"
   },
   "source": [
    "Begin Data Calculations\n",
    "-----------------------"
   ]
  },
  {
   "cell_type": "code",
   "execution_count": null,
   "metadata": {},
   "outputs": [],
   "source": [
    "avor = mpcalc.vorticity(uwnd_500er, vwnd_500er)\n",
    "\n",
    "avor = mpcalc.smooth_n_point(avor, 9, 10) * 1e5\n",
    "\n",
    "vort_adv = mpcalc.advection(avor, uwnd_500er, vwnd_500er) * 1e4"
   ]
  },
  {
   "cell_type": "markdown",
   "metadata": {
    "cell_marker": "#######################################"
   },
   "source": [
    "Map Creation\n",
    "------------"
   ]
  },
  {
   "cell_type": "code",
   "execution_count": null,
   "metadata": {},
   "outputs": [],
   "source": [
    "# Set up Coordinate System for Plot and Transforms\n",
    "datacrs = ds.Geopotential_height_isobaric.metpy.cartopy_crs\n",
    "plotcrs = ccrs.LambertConformal(central_latitude=45., central_longitude=-100.,\n",
    "                                standard_parallels=[30, 60])\n",
    "\n",
    "fig = plt.figure(1, figsize=(12., 14.))\n",
    "ax = plt.subplot(111, projection=plotcrs)\n",
    "\n",
    "# Plot Titles\n",
    "plt.title(r'500-hPa Heights (m), AVOR$*10^5$ ($s^{-1}$),'\n",
    "          'AVOR Adv$*10^9$ ($s^{-2}$)', loc='left')\n",
    "plt.title(f'VALID: {vtime}', loc='right')\n",
    "\n",
    "# Plot Background\n",
    "ax.set_extent([235., 290., 20., 58.], ccrs.PlateCarree())\n",
    "ax.coastlines('50m', edgecolor='black', linewidth=0.75)\n",
    "ax.add_feature(cfeature.STATES, linewidth=.5)\n",
    "\n",
    "# Plot Height Contours\n",
    "clev500 = np.arange(5100, 6061, 60)\n",
    "cs = ax.contour(hght_500.longitude, hght_500.latitude,\n",
    "                hght_500, clev500,\n",
    "                colors='black', linewidths=1.0,\n",
    "                linestyles='solid', transform=ccrs.PlateCarree())\n",
    "plt.clabel(cs, fontsize=10, inline=1, inline_spacing=10, fmt='%i',\n",
    "           rightside_up=True, use_clabeltext=True)\n",
    "\n",
    "# Plot Absolute Vorticity Contours\n",
    "clevvort500 = np.arange(-9, 50, 5)\n",
    "cs2 = ax.contour(avor.longitude, avor.latitude,\n",
    "                 avor, clevvort500,\n",
    "                 colors='grey', linewidths=1.25, linestyles='dashed',\n",
    "                 transform=ccrs.PlateCarree())\n",
    "plt.clabel(cs2, fontsize=10, inline=1, inline_spacing=10, fmt='%i',\n",
    "           rightside_up=True, use_clabeltext=True)\n",
    "\n",
    "# Plot Colorfill of Vorticity Advection\n",
    "clev_avoradv = np.arange(-30, 31, 5)\n",
    "cf = ax.contourf(vort_adv.longitude, vort_adv.latitude, vort_adv,\n",
    "                 clev_avoradv[clev_avoradv != 0], extend='both',\n",
    "                 cmap='bwr', transform=ccrs.PlateCarree())\n",
    "cb = plt.colorbar(cf, orientation='horizontal', pad=0, aspect=50,\n",
    "                  extendrect='True', ticks=clev_avoradv)\n",
    "cb.set_label(r'$1/s^2$', size='large')\n",
    "\n",
    "# Plot Wind Barbs\n",
    "# Transform Vectors and plot wind barbs.\n",
    "wind_slice = (slice(None, None, 20), slice(None, None, 20))\n",
    "xx, yy = np.meshgrid(uwnd_500.x.values[wind_slice[0]],\n",
    "                     uwnd_500.y.values[wind_slice[0]])\n",
    "ax.barbs(xx, yy, uwnd_500.values[wind_slice], vwnd_500.values[wind_slice],\n",
    "         length=6, pivot='middle', transform=datacrs)"
   ]
  },
  {
   "cell_type": "code",
   "execution_count": null,
   "metadata": {},
   "outputs": [],
   "source": []
  }
 ],
 "metadata": {
  "jupytext": {
   "cell_metadata_filter": "-all",
   "main_language": "python",
   "notebook_metadata_filter": "-all"
  },
  "kernelspec": {
   "display_name": "Python 3",
   "language": "python",
   "name": "python3"
  },
  "language_info": {
   "codemirror_mode": {
    "name": "ipython",
    "version": 3
   },
   "file_extension": ".py",
   "mimetype": "text/x-python",
   "name": "python",
   "nbconvert_exporter": "python",
   "pygments_lexer": "ipython3",
   "version": "3.8.6"
  }
 },
 "nbformat": 4,
 "nbformat_minor": 4
}
